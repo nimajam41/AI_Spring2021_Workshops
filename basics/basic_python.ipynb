{
 "cells": [
  {
   "cell_type": "code",
   "execution_count": 1,
   "metadata": {},
   "outputs": [
    {
     "name": "stdout",
     "output_type": "stream",
     "text": [
      "5\n"
     ]
    }
   ],
   "source": [
    "# different types\n",
    "x_int = 5\n",
    "x_float = 2.5\n",
    "x_bool = True\n",
    "x_str = \"Hello World!\"\n",
    "print(x_int)"
   ]
  },
  {
   "cell_type": "code",
   "execution_count": 4,
   "metadata": {},
   "outputs": [
    {
     "name": "stdout",
     "output_type": "stream",
     "text": [
      "a = 2.5\n",
      "b = 2\n",
      "minimum of a and b is: 2\n"
     ]
    }
   ],
   "source": [
    "# some arithmetic\n",
    "a = 5 / 2\n",
    "b = 5 // 2\n",
    "print(\"a =\", a)\n",
    "print(\"b =\", b)\n",
    "c = min(a, b)\n",
    "print(\"minimum of a and b is:\", c)"
   ]
  },
  {
   "cell_type": "code",
   "execution_count": 5,
   "metadata": {},
   "outputs": [
    {
     "name": "stdout",
     "output_type": "stream",
     "text": [
      "5\n",
      "10\n",
      "type of num is: <class 'int'>\n",
      "nima\n",
      "type of s is:  <class 'str'>\n"
     ]
    }
   ],
   "source": [
    "# number and string as input\n",
    "num = int(input())\n",
    "print(num + 5)\n",
    "print(\"type of num is:\", type(num))\n",
    "s = input()\n",
    "print(\"type of s is: \", type(s))"
   ]
  },
  {
   "cell_type": "code",
   "execution_count": 6,
   "metadata": {},
   "outputs": [
    {
     "name": "stdout",
     "output_type": "stream",
     "text": [
      "4 8\n",
      "sum of a and b is:  12\n"
     ]
    }
   ],
   "source": [
    "# multiple inputs in one line\n",
    "a, b = map(int, input().split())\n",
    "print(\"sum of a and b is: \", a + b)"
   ]
  },
  {
   "cell_type": "code",
   "execution_count": 7,
   "metadata": {},
   "outputs": [
    {
     "name": "stdout",
     "output_type": "stream",
     "text": [
      "hello world! five = 5\n",
      "hello world! five = 5\n",
      "first line. continue of first line.\n"
     ]
    }
   ],
   "source": [
    "# formatted output\n",
    "hello = \"hello\"\n",
    "five = 5\n",
    "print(\"{} world! five = {}\".format(hello, five))\n",
    "print(hello + \" world! five = \" + str(five))\n",
    "print(\"first line.\", end=\" \")\n",
    "print(\"continue of first line.\")"
   ]
  },
  {
   "cell_type": "code",
   "execution_count": 8,
   "metadata": {},
   "outputs": [
    {
     "name": "stdout",
     "output_type": "stream",
     "text": [
      "True\n"
     ]
    }
   ],
   "source": [
    "# simple if and else\n",
    "a = 6\n",
    "if a == 6:\n",
    "    print(\"True\")\n",
    "else:\n",
    "    print(\"False\")"
   ]
  },
  {
   "cell_type": "code",
   "execution_count": 10,
   "metadata": {},
   "outputs": [
    {
     "name": "stdout",
     "output_type": "stream",
     "text": [
      "new value for a is:  8\n"
     ]
    }
   ],
   "source": [
    "# elif\n",
    "if a == 5:\n",
    "    print(a)\n",
    "elif a > 8:\n",
    "    print(0)\n",
    "else:\n",
    "    a += 1\n",
    "    print(\"new value for a is: \", a)"
   ]
  },
  {
   "cell_type": "code",
   "execution_count": 11,
   "metadata": {},
   "outputs": [
    {
     "name": "stdout",
     "output_type": "stream",
     "text": [
      "False\n"
     ]
    }
   ],
   "source": [
    "# conditions\n",
    "c = None\n",
    "if c is not None:\n",
    "    print(True)\n",
    "else:\n",
    "    print(False)"
   ]
  },
  {
   "cell_type": "code",
   "execution_count": 12,
   "metadata": {},
   "outputs": [
    {
     "name": "stdout",
     "output_type": "stream",
     "text": [
      "r =  range(1, 5)\n",
      "type of r is:  <class 'range'>\n"
     ]
    }
   ],
   "source": [
    "# range\n",
    "r = range(1, 5)\n",
    "print(\"r = \", r)\n",
    "print(\"type of r is: \", type(r))\n",
    "\n",
    "r2 = range(1, 10, 2)\n",
    "r3 = range(9, -11, -5)\n",
    "r4 = range(1, 1)"
   ]
  },
  {
   "cell_type": "code",
   "execution_count": 17,
   "metadata": {},
   "outputs": [
    {
     "name": "stdout",
     "output_type": "stream",
     "text": [
      "9\n",
      "4\n",
      "-1\n",
      "-6\n"
     ]
    }
   ],
   "source": [
    "# for loop\n",
    "for x in r3:\n",
    "    print(x)"
   ]
  },
  {
   "cell_type": "code",
   "execution_count": 16,
   "metadata": {},
   "outputs": [
    {
     "name": "stdout",
     "output_type": "stream",
     "text": [
      "0\n",
      "1\n",
      "2\n",
      "3\n",
      "4\n",
      "5\n",
      "6\n",
      "7\n",
      "8\n",
      "9\n",
      "11\n",
      "12\n",
      "13\n",
      "14\n",
      "15\n",
      "16\n",
      "17\n",
      "18\n",
      "19\n"
     ]
    }
   ],
   "source": [
    "for i in range(20):\n",
    "    if i == 10:\n",
    "        continue\n",
    "    print(i)"
   ]
  },
  {
   "cell_type": "code",
   "execution_count": 18,
   "metadata": {},
   "outputs": [
    {
     "name": "stdout",
     "output_type": "stream",
     "text": [
      "0\n",
      "2\n",
      "4\n",
      "6\n",
      "8\n"
     ]
    }
   ],
   "source": [
    "# while loop\n",
    "i = 0\n",
    "while True:\n",
    "    if i == 10:\n",
    "        break\n",
    "    print(i)\n",
    "    i += 2"
   ]
  },
  {
   "cell_type": "code",
   "execution_count": 19,
   "metadata": {},
   "outputs": [
    {
     "name": "stdout",
     "output_type": "stream",
     "text": [
      "a = [5, 7, 9]\n",
      "b = [1, 2, 3, 4, 5, 6, 7, 8, 9]\n",
      "c = ['a', 'b', 'c', 5]\n",
      "d = [1, 1, 1, 1, 1, 1, 1, 1, 1, 1]\n",
      "type of a is:  <class 'list'>\n"
     ]
    }
   ],
   "source": [
    "# simple lists\n",
    "a = [5, 7, 9]\n",
    "b = [i + 1 for i in range(9)]\n",
    "c = [\"a\", \"b\", \"c\", 5]\n",
    "d = [1] * 10\n",
    "\n",
    "print(\"a =\", a)\n",
    "print(\"b =\", b)\n",
    "print(\"c =\", c)\n",
    "print(\"d =\", d)\n",
    "\n",
    "print(\"type of a is: \", type(a))"
   ]
  },
  {
   "cell_type": "code",
   "execution_count": 20,
   "metadata": {},
   "outputs": [
    {
     "name": "stdout",
     "output_type": "stream",
     "text": [
      "last element of c is: 5\n",
      "last element of c also is: 5\n",
      "first two elements of c are: ['a', 'b']\n"
     ]
    }
   ],
   "source": [
    "# list elements\n",
    "print(\"last element of c is:\", c[3])\n",
    "print(\"last element of c also is:\", c[-1])\n",
    "print(\"first two elements of c are:\", c[:2])"
   ]
  },
  {
   "cell_type": "code",
   "execution_count": 22,
   "metadata": {},
   "outputs": [
    {
     "name": "stdout",
     "output_type": "stream",
     "text": [
      "array l = [[0, 1, 2, 3, 4], [0, 1, 2, 3, 4], [0, 1, 2, 3, 4], [0, 1, 2, 3, 4], [0, 1, 2, 3, 4], [0, 1, 2, 3, 4], [0, 1, 2, 3, 4], [0, 1, 2, 3, 4]]\n",
      "first row of l is: [0, 1, 2, 3, 4]\n",
      "l[2][1] is: 1\n"
     ]
    }
   ],
   "source": [
    "# list of lists\n",
    "l1 = [[j for j in range(5)] for i in range(8)]\n",
    "print(\"array l =\", l1)\n",
    "print(\"first row of l is:\", l1[0])\n",
    "print(\"l[2][1] is:\", l1[2][1])"
   ]
  },
  {
   "cell_type": "code",
   "execution_count": 23,
   "metadata": {},
   "outputs": [
    {
     "name": "stdout",
     "output_type": "stream",
     "text": [
      "new value of l2 is: [[1, 2], [3, 4, 5], 6, [], 7, 8, 9, [10]]\n"
     ]
    }
   ],
   "source": [
    "l2 = [[1, 2], [3, 4, 5], 6, []]\n",
    "l2 += [7, 8, 9, [10]]\n",
    "print(\"new value of l2 is:\", l2)"
   ]
  },
  {
   "cell_type": "code",
   "execution_count": 25,
   "metadata": {},
   "outputs": [
    {
     "name": "stdout",
     "output_type": "stream",
     "text": [
      "l3 rows are:\n",
      "[2, 3, 4, 5, 6, 7, 8]\n",
      "[3, 4, 5, 6, 7, 8, 9]\n",
      "[4, 5, 6, 7, 8, 9, 10]\n",
      "[5, 6, 7, 8, 9, 10, 11]\n"
     ]
    }
   ],
   "source": [
    "l3 = []\n",
    "for i in range(1, 5):\n",
    "    new = []\n",
    "    for j in range(1, 8):\n",
    "        new += [i + j]\n",
    "    l3 += [new]\n",
    "print(\"l3 rows are:\")\n",
    "# foreach structure in python\n",
    "for row in l3:\n",
    "    print(row)"
   ]
  },
  {
   "cell_type": "code",
   "execution_count": 26,
   "metadata": {},
   "outputs": [
    {
     "name": "stdout",
     "output_type": "stream",
     "text": [
      "l4 rows are:\n",
      "[2, 3, 4, 5, 6, 7, 8]\n",
      "[3, 4, 5, 6, 7, 8, 9]\n",
      "[4, 5, 6, 7, 8, 9, 10]\n",
      "[5, 6, 7, 8, 9, 10, 11]\n"
     ]
    }
   ],
   "source": [
    "l4 = [[i + j for j in range(1, 8)] for i in range(1, 5)]\n",
    "print(\"l4 rows are:\")\n",
    "for row in l4:\n",
    "    print(row)"
   ]
  },
  {
   "cell_type": "code",
   "execution_count": 29,
   "metadata": {},
   "outputs": [
    {
     "name": "stdout",
     "output_type": "stream",
     "text": [
      "my_list values are: [2, 3, 4, 2, 1, 2, 1]\n",
      "new length of my_list is: 7\n",
      "new length of my_list also is: 7\n",
      "reversed my_list is: None\n",
      "sorted my_list (ascending order) is: [1, 1, 2, 2, 2, 3, 4]\n",
      "new list is: [1, 1, 2, 2, 3, 4]\n"
     ]
    }
   ],
   "source": [
    "# list methods\n",
    "my_list = [1, 2, 3, 4, 2, 1, 2]\n",
    "my_list.append(1)\n",
    "my_list.remove(1)\n",
    "print(\"my_list values are:\", my_list)\n",
    "print(\"new length of my_list is:\", len(my_list))\n",
    "print(\"new length of my_list also is:\", my_list.__len__())\n",
    "print(\"reversed my_list is:\", my_list.reverse())\n",
    "my_list.sort()\n",
    "print(\"sorted my_list (ascending order) is:\", my_list)\n",
    "my_list.pop(3)\n",
    "print(\"new list is:\", my_list)"
   ]
  },
  {
   "cell_type": "code",
   "execution_count": 30,
   "metadata": {},
   "outputs": [
    {
     "name": "stdout",
     "output_type": "stream",
     "text": [
      "7 11 -6 4 8\n",
      "last element of int_list is: 8\n",
      "4 2 5 0 11 7 6\n",
      "last element of another_int_list is: 6\n"
     ]
    }
   ],
   "source": [
    "# integer list as input\n",
    "int_list = [*map(int, input().split())]\n",
    "print(\"last element of int_list is:\", int_list[-1])\n",
    "another_int_list = list(map(int, input().split()))\n",
    "print(\"last element of another_int_list is:\", another_int_list[-1])"
   ]
  },
  {
   "cell_type": "code",
   "execution_count": 31,
   "metadata": {},
   "outputs": [
    {
     "name": "stdout",
     "output_type": "stream",
     "text": [
      "odd digits are: [1, 3, 5, 7, 9]\n"
     ]
    }
   ],
   "source": [
    "# membership in lists\n",
    "digits = [i for i in range(1, 10)]\n",
    "even_digits = [i for i in range(2, 10, 2)]\n",
    "odd_digits = [x for x in digits if x not in even_digits]\n",
    "print(\"odd digits are:\", odd_digits)"
   ]
  },
  {
   "cell_type": "code",
   "execution_count": 32,
   "metadata": {},
   "outputs": [
    {
     "name": "stdout",
     "output_type": "stream",
     "text": [
      "[100, 2, 3, 4]\n",
      "[1, 2, 3, 4]\n"
     ]
    }
   ],
   "source": [
    "# some tricky points!\n",
    "m = [1, 2, 3, 4]\n",
    "n = m\n",
    "n[0] = 100\n",
    "print(m)  # !!!\n",
    "\n",
    "m = [1, 2, 3, 4]\n",
    "n = m.copy()\n",
    "n[0] = 100\n",
    "print(m)  # as expected"
   ]
  },
  {
   "cell_type": "code",
   "execution_count": 33,
   "metadata": {},
   "outputs": [
    {
     "name": "stdout",
     "output_type": "stream",
     "text": [
      "[[5, 2, 3, 4], [5, 2, 3, 4], [5, 2, 3, 4], [5, 2, 3, 4]]\n",
      "[[5, 2, 3, 4], [1, 2, 3, 4], [1, 2, 3, 4], [1, 2, 3, 4]]\n"
     ]
    }
   ],
   "source": [
    "k = [[1, 2, 3, 4]] * 4\n",
    "k[0][0] = 5\n",
    "print(k)  # !!!\n",
    "\n",
    "k2 = [[1, 2, 3, 4] for _ in range(4)]\n",
    "k2[0][0] = 5\n",
    "print(k2)  # as expected"
   ]
  },
  {
   "cell_type": "code",
   "execution_count": 34,
   "metadata": {},
   "outputs": [
    {
     "name": "stdout",
     "output_type": "stream",
     "text": [
      "hello world!\n",
      "ello wor\n",
      "upper case s: hello world!\n",
      "['saturday', 'sunday', 'monday', 'tuesday', 'wednesday', 'thursday', 'friday']\n",
      "new_str ends with \"e\"? True\n",
      "frequency of character \"a\" in days is: 8\n",
      "length of new_str is: 5\n"
     ]
    }
   ],
   "source": [
    "# string methods\n",
    "s = 'hello'\n",
    "s += \" world!\"\n",
    "print(s)\n",
    "print(s[1:9])\n",
    "s.upper()\n",
    "print(\"upper case s:\", s)\n",
    "days = \"saturday,sunday,monday,tuesday,wednesday,thursday,friday\"\n",
    "days_list = days.split(\",\")\n",
    "print(days_list)\n",
    "new_str = \"abcde\"\n",
    "print(\"new_str ends with \\\"e\\\"?\", new_str.endswith(\"e\"))\n",
    "print(\"frequency of character \\\"a\\\" in days is:\", days.count(\"a\"))\n",
    "print(\"length of new_str is:\", len(new_str))"
   ]
  },
  {
   "cell_type": "code",
   "execution_count": 36,
   "metadata": {},
   "outputs": [
    {
     "name": "stdout",
     "output_type": "stream",
     "text": [
      "5 + 6 = 11\n"
     ]
    }
   ],
   "source": [
    "# simple functions\n",
    "def add(a, b):\n",
    "    return a + b\n",
    "\n",
    "\n",
    "print(\"5 + 6 =\", add(5, 6))"
   ]
  },
  {
   "cell_type": "code",
   "execution_count": 37,
   "metadata": {},
   "outputs": [
    {
     "name": "stdout",
     "output_type": "stream",
     "text": [
      "hello\n"
     ]
    }
   ],
   "source": [
    "def print_hello():\n",
    "    print(\"hello\")\n",
    "\n",
    "\n",
    "print_hello()"
   ]
  },
  {
   "cell_type": "code",
   "execution_count": 40,
   "metadata": {},
   "outputs": [
    {
     "name": "stdout",
     "output_type": "stream",
     "text": [
      "42\n"
     ]
    }
   ],
   "source": [
    "# returning tuples\n",
    "def gcd_and_lcm(a, b):\n",
    "    # assume arguments are positive\n",
    "    gcd = 1\n",
    "    m = min(a, b)\n",
    "    for x in range(m, 1, -1):\n",
    "        if a % x == 0 and b % x == 0:\n",
    "            gcd = x\n",
    "            break\n",
    "    lcm = a * b // gcd\n",
    "    return gcd, lcm\n",
    "\n",
    "\n",
    "a, b = gcd_and_lcm(12, 18)\n",
    "print(a + b)"
   ]
  },
  {
   "cell_type": "code",
   "execution_count": 41,
   "metadata": {},
   "outputs": [
    {
     "name": "stdout",
     "output_type": "stream",
     "text": [
      "default parameter (2): 10\n",
      "given parameter (4): 20\n"
     ]
    }
   ],
   "source": [
    "# default parameter\n",
    "def multiply_by_param(a, param=2):\n",
    "    return a * param\n",
    "\n",
    "\n",
    "print(\"default parameter (2):\", multiply_by_param(5))\n",
    "print(\"given parameter (4):\", multiply_by_param(5, param=4))"
   ]
  },
  {
   "cell_type": "code",
   "execution_count": 42,
   "metadata": {},
   "outputs": [
    {
     "name": "stdout",
     "output_type": "stream",
     "text": [
      "last arg is: 5\n",
      "last arg is: 16\n"
     ]
    }
   ],
   "source": [
    "# args\n",
    "def f(*numbers):\n",
    "    print(\"last arg is:\", numbers[-1])\n",
    "\n",
    "\n",
    "f(1, 3, 5)\n",
    "f(2, 4, 8, 16)"
   ]
  },
  {
   "cell_type": "code",
   "execution_count": 43,
   "metadata": {},
   "outputs": [
    {
     "name": "stdout",
     "output_type": "stream",
     "text": [
      "sum of 1 to 8 is: 36\n"
     ]
    }
   ],
   "source": [
    "# recursion\n",
    "def recursive_sum(n, start=1):\n",
    "    assert n >= start\n",
    "    if n == start:\n",
    "        return start\n",
    "    else:\n",
    "        return n + recursive_sum(n - 1)\n",
    "\n",
    "\n",
    "print(\"sum of 1 to 8 is:\", recursive_sum(8))"
   ]
  },
  {
   "cell_type": "code",
   "execution_count": 44,
   "metadata": {},
   "outputs": [
    {
     "name": "stdout",
     "output_type": "stream",
     "text": [
      "98111111\n",
      "16.0\n",
      "['a']\n"
     ]
    }
   ],
   "source": [
    "class Student:\n",
    "    # class variable\n",
    "    some_array = []\n",
    "\n",
    "    def __init__(self, name, student_id, grades):\n",
    "        # instance variables\n",
    "        self.name = name\n",
    "        self.student_id = student_id\n",
    "        self.grades = grades\n",
    "\n",
    "    def average(self):\n",
    "        return sum(self.grades) / len(self.grades)\n",
    "\n",
    "\n",
    "student1 = Student(\"a\", 98111111, [17, 20, 18, 14])\n",
    "student2 = Student(\"b\", 98111112, [10, 20, 15, 15, 20])\n",
    "\n",
    "print(student1.student_id)\n",
    "print(student2.average())\n",
    "\n",
    "student1.some_array += [\"a\"]\n",
    "print(student2.some_array) # class variable effect"
   ]
  },
  {
   "cell_type": "code",
   "execution_count": 46,
   "metadata": {},
   "outputs": [],
   "source": [
    "class Graph:\n",
    "    # v = vertex#\n",
    "    def __init__(self, v):\n",
    "        self.v = v\n",
    "        self.edges = [[] for _ in range(v)]\n",
    "\n",
    "    # create edge between u and v\n",
    "    def add_edge(self, u, v):\n",
    "        self.edges[u].append(v)\n",
    "        self.edges[v].append(u)"
   ]
  },
  {
   "cell_type": "code",
   "execution_count": 47,
   "metadata": {},
   "outputs": [],
   "source": [
    "def bfs(g, start):\n",
    "    visited = [False for _ in range(g.v)]\n",
    "    q = [start]\n",
    "    visited[start] = True\n",
    "    print(start)\n",
    "\n",
    "    while len(q) > 0:\n",
    "        current = q.pop(0)\n",
    "        for vertex in g.edges[current]:\n",
    "            if not visited[vertex]:\n",
    "                q.append(vertex)\n",
    "                visited[vertex] = True\n",
    "                print(vertex)"
   ]
  },
  {
   "cell_type": "code",
   "execution_count": 48,
   "metadata": {},
   "outputs": [],
   "source": [
    "def dfs(g, start):\n",
    "    visited = [False for _ in range(g.v)]\n",
    "    dfs_helper(g, start, visited)\n",
    "\n",
    "\n",
    "def dfs_helper(g, current, visited):\n",
    "    visited[current] = True\n",
    "    print(current)\n",
    "    for vertex in g.edges[current]:\n",
    "        if not visited[vertex]:\n",
    "            dfs_helper(g, vertex, visited)"
   ]
  },
  {
   "cell_type": "code",
   "execution_count": 49,
   "metadata": {},
   "outputs": [],
   "source": [
    "graph = Graph(7)\n",
    "graph.add_edge(0, 1)\n",
    "graph.add_edge(0, 3)\n",
    "graph.add_edge(1, 2)\n",
    "graph.add_edge(2, 4)\n",
    "graph.add_edge(1, 6)\n",
    "graph.add_edge(1, 5)\n",
    "graph.add_edge(3, 5)\n",
    "graph.add_edge(2, 6)\n",
    "graph.add_edge(4, 5)"
   ]
  },
  {
   "cell_type": "code",
   "execution_count": 50,
   "metadata": {},
   "outputs": [
    {
     "name": "stdout",
     "output_type": "stream",
     "text": [
      "0\n",
      "1\n",
      "3\n",
      "2\n",
      "6\n",
      "5\n",
      "4\n"
     ]
    }
   ],
   "source": [
    "bfs(graph, 0)"
   ]
  },
  {
   "cell_type": "code",
   "execution_count": 51,
   "metadata": {},
   "outputs": [
    {
     "name": "stdout",
     "output_type": "stream",
     "text": [
      "0\n",
      "1\n",
      "2\n",
      "4\n",
      "5\n",
      "3\n",
      "6\n"
     ]
    }
   ],
   "source": [
    "dfs(graph, 0)"
   ]
  },
  {
   "cell_type": "code",
   "execution_count": 1,
   "metadata": {},
   "outputs": [],
   "source": [
    "# A defined maximum, all edge weights are less than this value (You can use math.inf instead)\n",
    "max_int = 100000\n",
    "\n",
    "\n",
    "class Graph:\n",
    "    def __init__(self, v):\n",
    "        self.v = v\n",
    "        # adjacency matrix\n",
    "        self.graph = [[0 for column in range(v)]\n",
    "                      for row in range(v)]\n",
    "\n",
    "    def min_distance(self, dist, dijkstra_set):\n",
    "        min_value = max_int\n",
    "        min_index = 0\n",
    "        for v in range(self.v):\n",
    "            if dist[v] < min_value and dijkstra_set[v] == False:\n",
    "                min_value = dist[v]\n",
    "                min_index = v\n",
    "        return min_index\n",
    "\n",
    "    def dijkstra(self, src):\n",
    "        # Saving the distance of every vertex initialized by max_int\n",
    "        dist = [max_int] * self.v\n",
    "\n",
    "        # Distance of source should be zero to itself\n",
    "        dist[src] = 0\n",
    "\n",
    "        # The dijkstra_set indicates whether the distance of a vertex is finalized or not\n",
    "        dijkstra_set = [False] * self.v\n",
    "\n",
    "        for i in range(self.v):\n",
    "            # Pick the minimum distance vertex from the set of vertices not yet finalized.\n",
    "            # u is always equal to src in first iteration\n",
    "            u = self.min_distance(dist, dijkstra_set)\n",
    "\n",
    "            # Put the minimum distance vertex in the finalized vertexes.\n",
    "            dijkstra_set[u] = True\n",
    "\n",
    "            # Update dist value of the adjacent vertices of the picked vertex only if the current\n",
    "            # distance is greater than new distance and the vertex in not in the finalized list\n",
    "            for v in range(self.v):\n",
    "                if self.graph[u][v] > 0 and dijkstra_set[v] == False and dist[v] > dist[u] + self.graph[u][v]:\n",
    "                    dist[v] = dist[u] + self.graph[u][v]\n",
    "        return dist\n"
   ]
  },
  {
   "cell_type": "code",
   "execution_count": 3,
   "metadata": {},
   "outputs": [
    {
     "name": "stdout",
     "output_type": "stream",
     "text": [
      "minimum distances from node 0 are:\n",
      "node 0 minimum distance is 0\n",
      "node 1 minimum distance is 4\n",
      "node 2 minimum distance is 12\n",
      "node 3 minimum distance is 19\n",
      "node 4 minimum distance is 21\n",
      "node 5 minimum distance is 11\n",
      "node 6 minimum distance is 9\n",
      "node 7 minimum distance is 8\n",
      "node 8 minimum distance is 14\n"
     ]
    }
   ],
   "source": [
    "g = Graph(9)\n",
    "g.graph = [[0, 4, 0, 0, 0, 0, 0, 8, 0],\n",
    "           [4, 0, 8, 0, 0, 0, 0, 11, 0],\n",
    "           [0, 8, 0, 7, 0, 4, 0, 0, 2],\n",
    "           [0, 0, 7, 0, 9, 14, 0, 0, 0],\n",
    "           [0, 0, 0, 9, 0, 10, 0, 0, 0],\n",
    "           [0, 0, 4, 14, 10, 0, 2, 0, 0],\n",
    "           [0, 0, 0, 0, 0, 2, 0, 1, 6],\n",
    "           [8, 11, 0, 0, 0, 0, 1, 0, 7],\n",
    "           [0, 0, 2, 0, 0, 0, 6, 7, 0]\n",
    "               ]\n",
    "\n",
    "dist = g.dijkstra(0)\n",
    "print(\"minimum distances from node 0 are:\")\n",
    "for node in range(g.v):\n",
    "    print(\"node \" + str(node) + \" minimum distance is \" + str(dist[node]))"
   ]
  }
 ],
 "metadata": {
  "kernelspec": {
   "display_name": "Python 3",
   "language": "python",
   "name": "python3"
  },
  "language_info": {
   "codemirror_mode": {
    "name": "ipython",
    "version": 3
   },
   "file_extension": ".py",
   "mimetype": "text/x-python",
   "name": "python",
   "nbconvert_exporter": "python",
   "pygments_lexer": "ipython3",
   "version": "3.7.0"
  }
 },
 "nbformat": 4,
 "nbformat_minor": 2
}
